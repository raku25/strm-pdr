{
 "cells": [
  {
   "attachments": {},
   "cell_type": "markdown",
   "metadata": {},
   "source": [
    "Tentukan Library yang digunakan"
   ]
  },
  {
   "cell_type": "code",
   "execution_count": 1,
   "metadata": {},
   "outputs": [],
   "source": [
    "import numpy as np\n",
    "import pandas as pd\n",
    "from sklearn.preprocessing import StandardScaler\n",
    "from sklearn.model_selection import train_test_split\n",
    "from sklearn import svm\n",
    "from sklearn.metrics import accuracy_score"
   ]
  },
  {
   "attachments": {},
   "cell_type": "markdown",
   "metadata": {},
   "source": [
    "Load Dataset"
   ]
  },
  {
   "cell_type": "code",
   "execution_count": 2,
   "metadata": {},
   "outputs": [],
   "source": [
    "hipertensi_dataset = pd.read_csv('hipertensi.csv')"
   ]
  },
  {
   "cell_type": "code",
   "execution_count": 3,
   "metadata": {},
   "outputs": [
    {
     "data": {
      "text/html": [
       "<div>\n",
       "<style scoped>\n",
       "    .dataframe tbody tr th:only-of-type {\n",
       "        vertical-align: middle;\n",
       "    }\n",
       "\n",
       "    .dataframe tbody tr th {\n",
       "        vertical-align: top;\n",
       "    }\n",
       "\n",
       "    .dataframe thead th {\n",
       "        text-align: right;\n",
       "    }\n",
       "</style>\n",
       "<table border=\"1\" class=\"dataframe\">\n",
       "  <thead>\n",
       "    <tr style=\"text-align: right;\">\n",
       "      <th></th>\n",
       "      <th>Usia</th>\n",
       "      <th>Kelamin</th>\n",
       "      <th>BMI</th>\n",
       "      <th>Rokok</th>\n",
       "      <th>Alkohol</th>\n",
       "      <th>Aktivitas</th>\n",
       "      <th>Kolestrol</th>\n",
       "      <th>Sistolik</th>\n",
       "      <th>Diastolik</th>\n",
       "      <th>Outcome</th>\n",
       "    </tr>\n",
       "  </thead>\n",
       "  <tbody>\n",
       "    <tr>\n",
       "      <th>0</th>\n",
       "      <td>42</td>\n",
       "      <td>1</td>\n",
       "      <td>24.32</td>\n",
       "      <td>8</td>\n",
       "      <td>56</td>\n",
       "      <td>3.20</td>\n",
       "      <td>182</td>\n",
       "      <td>126</td>\n",
       "      <td>84</td>\n",
       "      <td>0</td>\n",
       "    </tr>\n",
       "    <tr>\n",
       "      <th>1</th>\n",
       "      <td>51</td>\n",
       "      <td>0</td>\n",
       "      <td>27.19</td>\n",
       "      <td>12</td>\n",
       "      <td>62</td>\n",
       "      <td>4.57</td>\n",
       "      <td>216</td>\n",
       "      <td>138</td>\n",
       "      <td>88</td>\n",
       "      <td>1</td>\n",
       "    </tr>\n",
       "    <tr>\n",
       "      <th>2</th>\n",
       "      <td>39</td>\n",
       "      <td>1</td>\n",
       "      <td>22.87</td>\n",
       "      <td>6</td>\n",
       "      <td>41</td>\n",
       "      <td>5.12</td>\n",
       "      <td>194</td>\n",
       "      <td>122</td>\n",
       "      <td>82</td>\n",
       "      <td>0</td>\n",
       "    </tr>\n",
       "    <tr>\n",
       "      <th>3</th>\n",
       "      <td>48</td>\n",
       "      <td>0</td>\n",
       "      <td>25.64</td>\n",
       "      <td>14</td>\n",
       "      <td>73</td>\n",
       "      <td>3.89</td>\n",
       "      <td>205</td>\n",
       "      <td>135</td>\n",
       "      <td>86</td>\n",
       "      <td>1</td>\n",
       "    </tr>\n",
       "    <tr>\n",
       "      <th>4</th>\n",
       "      <td>36</td>\n",
       "      <td>1</td>\n",
       "      <td>23.58</td>\n",
       "      <td>10</td>\n",
       "      <td>39</td>\n",
       "      <td>4.83</td>\n",
       "      <td>188</td>\n",
       "      <td>119</td>\n",
       "      <td>80</td>\n",
       "      <td>0</td>\n",
       "    </tr>\n",
       "  </tbody>\n",
       "</table>\n",
       "</div>"
      ],
      "text/plain": [
       "   Usia  Kelamin    BMI  Rokok  Alkohol  Aktivitas  Kolestrol  Sistolik  \\\n",
       "0    42        1  24.32      8       56       3.20        182       126   \n",
       "1    51        0  27.19     12       62       4.57        216       138   \n",
       "2    39        1  22.87      6       41       5.12        194       122   \n",
       "3    48        0  25.64     14       73       3.89        205       135   \n",
       "4    36        1  23.58     10       39       4.83        188       119   \n",
       "\n",
       "   Diastolik  Outcome  \n",
       "0         84        0  \n",
       "1         88        1  \n",
       "2         82        0  \n",
       "3         86        1  \n",
       "4         80        0  "
      ]
     },
     "execution_count": 3,
     "metadata": {},
     "output_type": "execute_result"
    }
   ],
   "source": [
    "hipertensi_dataset.head()"
   ]
  },
  {
   "cell_type": "code",
   "execution_count": 4,
   "metadata": {},
   "outputs": [
    {
     "data": {
      "text/plain": [
       "Outcome\n",
       "0    20\n",
       "1    19\n",
       "Name: count, dtype: int64"
      ]
     },
     "execution_count": 4,
     "metadata": {},
     "output_type": "execute_result"
    }
   ],
   "source": [
    "hipertensi_dataset['Outcome'].value_counts()"
   ]
  },
  {
   "cell_type": "code",
   "execution_count": 5,
   "metadata": {},
   "outputs": [],
   "source": [
    "X = hipertensi_dataset.drop (columns='Outcome', axis=1)\n",
    "Y = hipertensi_dataset['Outcome']"
   ]
  },
  {
   "cell_type": "code",
   "execution_count": 6,
   "metadata": {},
   "outputs": [
    {
     "name": "stdout",
     "output_type": "stream",
     "text": [
      "    Usia  Kelamin    BMI  Rokok  Alkohol  Aktivitas  Kolestrol  Sistolik  \\\n",
      "0     42        1  24.32      8       56       3.20        182       126   \n",
      "1     51        0  27.19     12       62       4.57        216       138   \n",
      "2     39        1  22.87      6       41       5.12        194       122   \n",
      "3     48        0  25.64     14       73       3.89        205       135   \n",
      "4     36        1  23.58     10       39       4.83        188       119   \n",
      "5     54        0  28.31     16       68       2.95        223       143   \n",
      "6     45        1  26.02      7       51       4.26        201       129   \n",
      "7     57        0  29.46     18       79       3.51        231       147   \n",
      "8     33        1  21.93      5       46       5.64        179       116   \n",
      "9     49        0  24.75     11       60       4.12        209       133   \n",
      "10    40        1  23.11      9       43       4.95        191       121   \n",
      "11    52        0  27.84     15       71       3.38        218       141   \n",
      "12    37        1  22.29      6       37       5.37        185       118   \n",
      "13    55        0  28.97     17       75       3.16        226       145   \n",
      "14    43        1  25.28      8       54       4.41        198       127   \n",
      "15    50        0  26.86     13       65       3.73        212       137   \n",
      "16    34        1  21.56      4       44       5.49        181       117   \n",
      "17    47        0  24.14     10       58       4.28        204       131   \n",
      "18    38        1  23.85      7       40       5.23        189       120   \n",
      "19    56        0  29.63     19       77       3.04        229       146   \n",
      "20    41        1  22.72      6       50       4.69        196       124   \n",
      "21    53        0  27.51     14       69       3.57        215       139   \n",
      "22    35        1  21.18      4       42       5.76        183       115   \n",
      "23    46        0  23.79      9       55       4.55        202       130   \n",
      "24    44        1  26.25     11       61       3.96        207       134   \n",
      "25    58        0  30.12     20       82       2.87        234       149   \n",
      "26    32        1  20.81      3       38       6.01        178       114   \n",
      "27    48        0  25.08     12       63       4.02        208       132   \n",
      "28    39        1  24.56      8       47       4.84        193       123   \n",
      "29    51        0  28.63     16       74       3.29        220       142   \n",
      "30    36        1  22.43      5       45       5.56        187       119   \n",
      "31    54        0  29.29     18       78       3.12        225       144   \n",
      "32    42        1  23.96      7       53       4.47        199       128   \n",
      "33    49        0  26.17     13       66       3.81        211       135   \n",
      "34    33        1  21.31      4       41       5.87        180       116   \n",
      "35    46        0  24.89     10       59       4.14        203       131   \n",
      "36    40        1  25.72      9       49       4.73        195       124   \n",
      "37    52        0  27.38     15       70       3.48        214       138   \n",
      "38    37        1  22.58      6       48       5.42        186       118   \n",
      "\n",
      "    Diastolik  \n",
      "0          84  \n",
      "1          88  \n",
      "2          82  \n",
      "3          86  \n",
      "4          80  \n",
      "5          91  \n",
      "6          85  \n",
      "7          93  \n",
      "8          78  \n",
      "9          87  \n",
      "10         81  \n",
      "11         90  \n",
      "12         79  \n",
      "13         92  \n",
      "14         84  \n",
      "15         89  \n",
      "16         77  \n",
      "17         86  \n",
      "18         80  \n",
      "19         94  \n",
      "20         83  \n",
      "21         89  \n",
      "22         76  \n",
      "23         85  \n",
      "24         88  \n",
      "25         95  \n",
      "26         75  \n",
      "27         87  \n",
      "28         82  \n",
      "29         91  \n",
      "30         79  \n",
      "31         93  \n",
      "32         84  \n",
      "33         88  \n",
      "34         77  \n",
      "35         86  \n",
      "36         83  \n",
      "37         90  \n",
      "38         78  \n"
     ]
    }
   ],
   "source": [
    "print(X)"
   ]
  },
  {
   "cell_type": "markdown",
   "metadata": {},
   "source": [
    "Standarisasi Data"
   ]
  },
  {
   "cell_type": "code",
   "execution_count": 7,
   "metadata": {},
   "outputs": [],
   "source": [
    "scaler = StandardScaler()"
   ]
  },
  {
   "cell_type": "code",
   "execution_count": 8,
   "metadata": {},
   "outputs": [
    {
     "data": {
      "text/html": [
       "<style>#sk-container-id-1 {color: black;background-color: white;}#sk-container-id-1 pre{padding: 0;}#sk-container-id-1 div.sk-toggleable {background-color: white;}#sk-container-id-1 label.sk-toggleable__label {cursor: pointer;display: block;width: 100%;margin-bottom: 0;padding: 0.3em;box-sizing: border-box;text-align: center;}#sk-container-id-1 label.sk-toggleable__label-arrow:before {content: \"▸\";float: left;margin-right: 0.25em;color: #696969;}#sk-container-id-1 label.sk-toggleable__label-arrow:hover:before {color: black;}#sk-container-id-1 div.sk-estimator:hover label.sk-toggleable__label-arrow:before {color: black;}#sk-container-id-1 div.sk-toggleable__content {max-height: 0;max-width: 0;overflow: hidden;text-align: left;background-color: #f0f8ff;}#sk-container-id-1 div.sk-toggleable__content pre {margin: 0.2em;color: black;border-radius: 0.25em;background-color: #f0f8ff;}#sk-container-id-1 input.sk-toggleable__control:checked~div.sk-toggleable__content {max-height: 200px;max-width: 100%;overflow: auto;}#sk-container-id-1 input.sk-toggleable__control:checked~label.sk-toggleable__label-arrow:before {content: \"▾\";}#sk-container-id-1 div.sk-estimator input.sk-toggleable__control:checked~label.sk-toggleable__label {background-color: #d4ebff;}#sk-container-id-1 div.sk-label input.sk-toggleable__control:checked~label.sk-toggleable__label {background-color: #d4ebff;}#sk-container-id-1 input.sk-hidden--visually {border: 0;clip: rect(1px 1px 1px 1px);clip: rect(1px, 1px, 1px, 1px);height: 1px;margin: -1px;overflow: hidden;padding: 0;position: absolute;width: 1px;}#sk-container-id-1 div.sk-estimator {font-family: monospace;background-color: #f0f8ff;border: 1px dotted black;border-radius: 0.25em;box-sizing: border-box;margin-bottom: 0.5em;}#sk-container-id-1 div.sk-estimator:hover {background-color: #d4ebff;}#sk-container-id-1 div.sk-parallel-item::after {content: \"\";width: 100%;border-bottom: 1px solid gray;flex-grow: 1;}#sk-container-id-1 div.sk-label:hover label.sk-toggleable__label {background-color: #d4ebff;}#sk-container-id-1 div.sk-serial::before {content: \"\";position: absolute;border-left: 1px solid gray;box-sizing: border-box;top: 0;bottom: 0;left: 50%;z-index: 0;}#sk-container-id-1 div.sk-serial {display: flex;flex-direction: column;align-items: center;background-color: white;padding-right: 0.2em;padding-left: 0.2em;position: relative;}#sk-container-id-1 div.sk-item {position: relative;z-index: 1;}#sk-container-id-1 div.sk-parallel {display: flex;align-items: stretch;justify-content: center;background-color: white;position: relative;}#sk-container-id-1 div.sk-item::before, #sk-container-id-1 div.sk-parallel-item::before {content: \"\";position: absolute;border-left: 1px solid gray;box-sizing: border-box;top: 0;bottom: 0;left: 50%;z-index: -1;}#sk-container-id-1 div.sk-parallel-item {display: flex;flex-direction: column;z-index: 1;position: relative;background-color: white;}#sk-container-id-1 div.sk-parallel-item:first-child::after {align-self: flex-end;width: 50%;}#sk-container-id-1 div.sk-parallel-item:last-child::after {align-self: flex-start;width: 50%;}#sk-container-id-1 div.sk-parallel-item:only-child::after {width: 0;}#sk-container-id-1 div.sk-dashed-wrapped {border: 1px dashed gray;margin: 0 0.4em 0.5em 0.4em;box-sizing: border-box;padding-bottom: 0.4em;background-color: white;}#sk-container-id-1 div.sk-label label {font-family: monospace;font-weight: bold;display: inline-block;line-height: 1.2em;}#sk-container-id-1 div.sk-label-container {text-align: center;}#sk-container-id-1 div.sk-container {/* jupyter's `normalize.less` sets `[hidden] { display: none; }` but bootstrap.min.css set `[hidden] { display: none !important; }` so we also need the `!important` here to be able to override the default hidden behavior on the sphinx rendered scikit-learn.org. See: https://github.com/scikit-learn/scikit-learn/issues/21755 */display: inline-block !important;position: relative;}#sk-container-id-1 div.sk-text-repr-fallback {display: none;}</style><div id=\"sk-container-id-1\" class=\"sk-top-container\"><div class=\"sk-text-repr-fallback\"><pre>StandardScaler()</pre><b>In a Jupyter environment, please rerun this cell to show the HTML representation or trust the notebook. <br />On GitHub, the HTML representation is unable to render, please try loading this page with nbviewer.org.</b></div><div class=\"sk-container\" hidden><div class=\"sk-item\"><div class=\"sk-estimator sk-toggleable\"><input class=\"sk-toggleable__control sk-hidden--visually\" id=\"sk-estimator-id-1\" type=\"checkbox\" checked><label for=\"sk-estimator-id-1\" class=\"sk-toggleable__label sk-toggleable__label-arrow\">StandardScaler</label><div class=\"sk-toggleable__content\"><pre>StandardScaler()</pre></div></div></div></div></div>"
      ],
      "text/plain": [
       "StandardScaler()"
      ]
     },
     "execution_count": 8,
     "metadata": {},
     "output_type": "execute_result"
    }
   ],
   "source": [
    "scaler.fit(X)"
   ]
  },
  {
   "cell_type": "code",
   "execution_count": 9,
   "metadata": {},
   "outputs": [],
   "source": [
    "standarized_data = scaler.transform(X)"
   ]
  },
  {
   "cell_type": "code",
   "execution_count": 10,
   "metadata": {},
   "outputs": [
    {
     "name": "stdout",
     "output_type": "stream",
     "text": [
      "[[-0.35629395  0.97467943 -0.3293068  -0.51162268 -0.0874788  -1.2645212\n",
      "  -1.29058784 -0.38163018 -0.18627267]\n",
      " [ 0.84619812 -1.02597835  0.77097112  0.3465831   0.36741096  0.25409799\n",
      "   0.85123879  0.79338906  0.55881802]\n",
      " [-0.75712464  0.97467943 -0.88519634 -0.94072557 -1.22470322  0.86376263\n",
      "  -0.53464903 -0.77330326 -0.55881802]\n",
      " [ 0.44536743 -1.02597835  0.17674437  0.77568599  1.20137554 -0.4996692\n",
      "   0.15829488  0.49963425  0.18627267]\n",
      " [-1.15795533  0.97467943 -0.61300215 -0.08251979 -1.37633314  0.54230309\n",
      "  -0.91261843 -1.06705807 -0.93136337]\n",
      " [ 1.24702882 -1.02597835  1.20034786  1.20478888  0.82230073 -1.54164149\n",
      "   1.29220309  1.28298041  1.11763604]\n",
      " [ 0.04453674  0.97467943  0.32242576 -0.72617412 -0.46655361 -0.08953117\n",
      "  -0.09368472 -0.08787537  0.        ]\n",
      " [ 1.64785951 -1.02597835  1.64122577  1.63389177  1.6562653  -0.92089204\n",
      "   1.79616229  1.67465349  1.49018139]\n",
      " [-1.55878602  0.97467943 -1.24556611 -1.15527701 -0.84562841  1.44017283\n",
      "  -1.47957254 -1.36081288 -1.30390871]\n",
      " [ 0.57897766 -1.02597835 -0.1644568   0.13203166  0.21578104 -0.24471853\n",
      "   0.41027448  0.30379771  0.37254535]\n",
      " [-0.62351441  0.97467943 -0.79318704 -0.29707123 -1.07307329  0.67532083\n",
      "  -0.72363373 -0.87122153 -0.74509069]\n",
      " [ 0.97980836 -1.02597835  1.02016298  0.99023744  1.04974561 -1.06499459\n",
      "   0.97722859  1.08714387  0.93136337]\n",
      " [-1.0243451   0.97467943 -1.10755216 -0.94072557 -1.52796306  1.14088292\n",
      "  -1.10160313 -1.16497634 -1.11763604]\n",
      " [ 1.38063905 -1.02597835  1.45337345  1.41934033  1.35300546 -1.30886045\n",
      "   1.48118779  1.47881695  1.30390871]\n",
      " [-0.22268372  0.97467943  0.03873041 -0.51162268 -0.23910872  0.076741\n",
      "  -0.28266943 -0.28371191 -0.18627267]\n",
      " [ 0.71258789 -1.02597835  0.64445832  0.56113455  0.59485585 -0.67702619\n",
      "   0.59925918  0.69547079  0.74509069]\n",
      " [-1.42517579  0.97467943 -1.38741379 -1.36982846 -0.99725833  1.27390066\n",
      "  -1.35358274 -1.26289461 -1.49018139]\n",
      " [ 0.3117572  -1.02597835 -0.39831378 -0.08251979  0.06415112 -0.06736155\n",
      "   0.09529998  0.10796117  0.18627267]\n",
      " [-0.89073487  0.97467943 -0.50949169 -0.72617412 -1.30051818  0.98569555\n",
      "  -0.84962353 -0.9691398  -0.93136337]\n",
      " [ 1.51424928 -1.02597835  1.70639903  1.84844322  1.50463538 -1.44187819\n",
      "   1.67017249  1.57673522  1.67645406]\n",
      " [-0.48990418  0.97467943 -0.94270216 -0.94072557 -0.54236857  0.38711573\n",
      "  -0.40865923 -0.57746672 -0.37254535]\n",
      " [ 1.11341859 -1.02597835  0.89365019  0.77568599  0.89811569 -0.85438317\n",
      "   0.78824388  0.89130733  0.74509069]\n",
      " [-1.29156556  0.97467943 -1.53309518 -1.36982846 -1.14888825  1.57319057\n",
      "  -1.22759293 -1.45873115 -1.67645406]\n",
      " [ 0.17814697 -1.02597835 -0.53249401 -0.29707123 -0.16329376  0.23192837\n",
      "  -0.03068982  0.0100429   0.        ]\n",
      " [-0.08907349  0.97467943  0.41060135  0.13203166  0.291596   -0.42207552\n",
      "   0.28428468  0.40171598  0.55881802]\n",
      " [ 1.78146974 -1.02597835  1.89425136  2.06299466  1.88371018 -1.63031998\n",
      "   1.985147    1.87049003  1.86272674]\n",
      " [-1.69239625  0.97467943 -1.67494286 -1.5843799  -1.4521481   1.85031086\n",
      "  -1.54256744 -1.55664942 -1.86272674]\n",
      " [ 0.44536743 -1.02597835 -0.03794401  0.3465831   0.44322593 -0.35556665\n",
      "   0.34727958  0.20587944  0.37254535]\n",
      " [-0.75712464  0.97467943 -0.2372975  -0.51162268 -0.76981345  0.5533879\n",
      "  -0.59764393 -0.67538499 -0.55881802]\n",
      " [ 0.84619812 -1.02597835  1.32302693  1.20478888  1.2771905  -1.1647579\n",
      "   1.10321839  1.18506214  1.11763604]\n",
      " [-1.15795533  0.97467943 -1.05388006 -1.15527701 -0.92144337  1.35149434\n",
      "  -0.97561333 -1.06705807 -1.11763604]\n",
      " [ 1.24702882 -1.02597835  1.57605252  1.63389177  1.58045034 -1.35319969\n",
      "   1.41819289  1.38089868  1.49018139]\n",
      " [-0.35629395  0.97467943 -0.46732076 -0.72617412 -0.31492368  0.14324987\n",
      "  -0.21967453 -0.18579364 -0.18627267]\n",
      " [ 0.57897766 -1.02597835  0.37993158  0.56113455  0.67067081 -0.58834769\n",
      "   0.53626428  0.49963425  0.55881802]\n",
      " [-1.55878602  0.97467943 -1.48325681 -1.36982846 -1.22470322  1.6951235\n",
      "  -1.41657764 -1.36081288 -1.49018139]\n",
      " [ 0.17814697 -1.02597835 -0.11078471 -0.08251979  0.13996608 -0.22254891\n",
      "   0.03230508  0.10796117  0.18627267]\n",
      " [-0.62351441  0.97467943  0.20741413 -0.29707123 -0.61818353  0.43145497\n",
      "  -0.47165413 -0.57746672 -0.37254535]\n",
      " [ 0.97980836 -1.02597835  0.84381181  0.99023744  0.97393065 -0.95414648\n",
      "   0.72524898  0.79338906  0.93136337]\n",
      " [-1.0243451   0.97467943 -0.99637425 -0.94072557 -0.69399849  1.19630697\n",
      "  -1.03860823 -1.16497634 -1.30390871]]\n"
     ]
    }
   ],
   "source": [
    "print(standarized_data)"
   ]
  },
  {
   "cell_type": "code",
   "execution_count": 11,
   "metadata": {},
   "outputs": [],
   "source": [
    "X = standarized_data\n",
    "Y = hipertensi_dataset['Outcome']"
   ]
  },
  {
   "cell_type": "code",
   "execution_count": 12,
   "metadata": {},
   "outputs": [
    {
     "name": "stdout",
     "output_type": "stream",
     "text": [
      "[[-0.35629395  0.97467943 -0.3293068  -0.51162268 -0.0874788  -1.2645212\n",
      "  -1.29058784 -0.38163018 -0.18627267]\n",
      " [ 0.84619812 -1.02597835  0.77097112  0.3465831   0.36741096  0.25409799\n",
      "   0.85123879  0.79338906  0.55881802]\n",
      " [-0.75712464  0.97467943 -0.88519634 -0.94072557 -1.22470322  0.86376263\n",
      "  -0.53464903 -0.77330326 -0.55881802]\n",
      " [ 0.44536743 -1.02597835  0.17674437  0.77568599  1.20137554 -0.4996692\n",
      "   0.15829488  0.49963425  0.18627267]\n",
      " [-1.15795533  0.97467943 -0.61300215 -0.08251979 -1.37633314  0.54230309\n",
      "  -0.91261843 -1.06705807 -0.93136337]\n",
      " [ 1.24702882 -1.02597835  1.20034786  1.20478888  0.82230073 -1.54164149\n",
      "   1.29220309  1.28298041  1.11763604]\n",
      " [ 0.04453674  0.97467943  0.32242576 -0.72617412 -0.46655361 -0.08953117\n",
      "  -0.09368472 -0.08787537  0.        ]\n",
      " [ 1.64785951 -1.02597835  1.64122577  1.63389177  1.6562653  -0.92089204\n",
      "   1.79616229  1.67465349  1.49018139]\n",
      " [-1.55878602  0.97467943 -1.24556611 -1.15527701 -0.84562841  1.44017283\n",
      "  -1.47957254 -1.36081288 -1.30390871]\n",
      " [ 0.57897766 -1.02597835 -0.1644568   0.13203166  0.21578104 -0.24471853\n",
      "   0.41027448  0.30379771  0.37254535]\n",
      " [-0.62351441  0.97467943 -0.79318704 -0.29707123 -1.07307329  0.67532083\n",
      "  -0.72363373 -0.87122153 -0.74509069]\n",
      " [ 0.97980836 -1.02597835  1.02016298  0.99023744  1.04974561 -1.06499459\n",
      "   0.97722859  1.08714387  0.93136337]\n",
      " [-1.0243451   0.97467943 -1.10755216 -0.94072557 -1.52796306  1.14088292\n",
      "  -1.10160313 -1.16497634 -1.11763604]\n",
      " [ 1.38063905 -1.02597835  1.45337345  1.41934033  1.35300546 -1.30886045\n",
      "   1.48118779  1.47881695  1.30390871]\n",
      " [-0.22268372  0.97467943  0.03873041 -0.51162268 -0.23910872  0.076741\n",
      "  -0.28266943 -0.28371191 -0.18627267]\n",
      " [ 0.71258789 -1.02597835  0.64445832  0.56113455  0.59485585 -0.67702619\n",
      "   0.59925918  0.69547079  0.74509069]\n",
      " [-1.42517579  0.97467943 -1.38741379 -1.36982846 -0.99725833  1.27390066\n",
      "  -1.35358274 -1.26289461 -1.49018139]\n",
      " [ 0.3117572  -1.02597835 -0.39831378 -0.08251979  0.06415112 -0.06736155\n",
      "   0.09529998  0.10796117  0.18627267]\n",
      " [-0.89073487  0.97467943 -0.50949169 -0.72617412 -1.30051818  0.98569555\n",
      "  -0.84962353 -0.9691398  -0.93136337]\n",
      " [ 1.51424928 -1.02597835  1.70639903  1.84844322  1.50463538 -1.44187819\n",
      "   1.67017249  1.57673522  1.67645406]\n",
      " [-0.48990418  0.97467943 -0.94270216 -0.94072557 -0.54236857  0.38711573\n",
      "  -0.40865923 -0.57746672 -0.37254535]\n",
      " [ 1.11341859 -1.02597835  0.89365019  0.77568599  0.89811569 -0.85438317\n",
      "   0.78824388  0.89130733  0.74509069]\n",
      " [-1.29156556  0.97467943 -1.53309518 -1.36982846 -1.14888825  1.57319057\n",
      "  -1.22759293 -1.45873115 -1.67645406]\n",
      " [ 0.17814697 -1.02597835 -0.53249401 -0.29707123 -0.16329376  0.23192837\n",
      "  -0.03068982  0.0100429   0.        ]\n",
      " [-0.08907349  0.97467943  0.41060135  0.13203166  0.291596   -0.42207552\n",
      "   0.28428468  0.40171598  0.55881802]\n",
      " [ 1.78146974 -1.02597835  1.89425136  2.06299466  1.88371018 -1.63031998\n",
      "   1.985147    1.87049003  1.86272674]\n",
      " [-1.69239625  0.97467943 -1.67494286 -1.5843799  -1.4521481   1.85031086\n",
      "  -1.54256744 -1.55664942 -1.86272674]\n",
      " [ 0.44536743 -1.02597835 -0.03794401  0.3465831   0.44322593 -0.35556665\n",
      "   0.34727958  0.20587944  0.37254535]\n",
      " [-0.75712464  0.97467943 -0.2372975  -0.51162268 -0.76981345  0.5533879\n",
      "  -0.59764393 -0.67538499 -0.55881802]\n",
      " [ 0.84619812 -1.02597835  1.32302693  1.20478888  1.2771905  -1.1647579\n",
      "   1.10321839  1.18506214  1.11763604]\n",
      " [-1.15795533  0.97467943 -1.05388006 -1.15527701 -0.92144337  1.35149434\n",
      "  -0.97561333 -1.06705807 -1.11763604]\n",
      " [ 1.24702882 -1.02597835  1.57605252  1.63389177  1.58045034 -1.35319969\n",
      "   1.41819289  1.38089868  1.49018139]\n",
      " [-0.35629395  0.97467943 -0.46732076 -0.72617412 -0.31492368  0.14324987\n",
      "  -0.21967453 -0.18579364 -0.18627267]\n",
      " [ 0.57897766 -1.02597835  0.37993158  0.56113455  0.67067081 -0.58834769\n",
      "   0.53626428  0.49963425  0.55881802]\n",
      " [-1.55878602  0.97467943 -1.48325681 -1.36982846 -1.22470322  1.6951235\n",
      "  -1.41657764 -1.36081288 -1.49018139]\n",
      " [ 0.17814697 -1.02597835 -0.11078471 -0.08251979  0.13996608 -0.22254891\n",
      "   0.03230508  0.10796117  0.18627267]\n",
      " [-0.62351441  0.97467943  0.20741413 -0.29707123 -0.61818353  0.43145497\n",
      "  -0.47165413 -0.57746672 -0.37254535]\n",
      " [ 0.97980836 -1.02597835  0.84381181  0.99023744  0.97393065 -0.95414648\n",
      "   0.72524898  0.79338906  0.93136337]\n",
      " [-1.0243451   0.97467943 -0.99637425 -0.94072557 -0.69399849  1.19630697\n",
      "  -1.03860823 -1.16497634 -1.30390871]]\n",
      "0     0\n",
      "1     1\n",
      "2     0\n",
      "3     1\n",
      "4     0\n",
      "5     1\n",
      "6     0\n",
      "7     1\n",
      "8     0\n",
      "9     1\n",
      "10    0\n",
      "11    1\n",
      "12    0\n",
      "13    1\n",
      "14    0\n",
      "15    1\n",
      "16    0\n",
      "17    1\n",
      "18    0\n",
      "19    1\n",
      "20    0\n",
      "21    1\n",
      "22    0\n",
      "23    1\n",
      "24    0\n",
      "25    1\n",
      "26    0\n",
      "27    1\n",
      "28    0\n",
      "29    1\n",
      "30    0\n",
      "31    1\n",
      "32    0\n",
      "33    1\n",
      "34    0\n",
      "35    1\n",
      "36    0\n",
      "37    1\n",
      "38    0\n",
      "Name: Outcome, dtype: int64\n"
     ]
    }
   ],
   "source": [
    "print(X)\n",
    "print(Y)"
   ]
  },
  {
   "cell_type": "markdown",
   "metadata": {},
   "source": [
    "Memisahkan Data Training dan Data Testing"
   ]
  },
  {
   "cell_type": "code",
   "execution_count": 13,
   "metadata": {},
   "outputs": [],
   "source": [
    "X_train, X_test, Y_train, Y_test = train_test_split(X, Y, test_size= 0.2, stratify=Y, random_state=2)"
   ]
  },
  {
   "cell_type": "code",
   "execution_count": 14,
   "metadata": {},
   "outputs": [
    {
     "name": "stdout",
     "output_type": "stream",
     "text": [
      "(39, 9) (31, 9) (8, 9)\n"
     ]
    }
   ],
   "source": [
    "print(X.shape, X_train.shape, X_test.shape)"
   ]
  },
  {
   "cell_type": "markdown",
   "metadata": {},
   "source": [
    "Membuat data latih menggunakan SVM"
   ]
  },
  {
   "cell_type": "code",
   "execution_count": 15,
   "metadata": {},
   "outputs": [],
   "source": [
    "classifier = svm.SVC(kernel='linear')"
   ]
  },
  {
   "cell_type": "code",
   "execution_count": 16,
   "metadata": {},
   "outputs": [
    {
     "data": {
      "text/html": [
       "<style>#sk-container-id-2 {color: black;background-color: white;}#sk-container-id-2 pre{padding: 0;}#sk-container-id-2 div.sk-toggleable {background-color: white;}#sk-container-id-2 label.sk-toggleable__label {cursor: pointer;display: block;width: 100%;margin-bottom: 0;padding: 0.3em;box-sizing: border-box;text-align: center;}#sk-container-id-2 label.sk-toggleable__label-arrow:before {content: \"▸\";float: left;margin-right: 0.25em;color: #696969;}#sk-container-id-2 label.sk-toggleable__label-arrow:hover:before {color: black;}#sk-container-id-2 div.sk-estimator:hover label.sk-toggleable__label-arrow:before {color: black;}#sk-container-id-2 div.sk-toggleable__content {max-height: 0;max-width: 0;overflow: hidden;text-align: left;background-color: #f0f8ff;}#sk-container-id-2 div.sk-toggleable__content pre {margin: 0.2em;color: black;border-radius: 0.25em;background-color: #f0f8ff;}#sk-container-id-2 input.sk-toggleable__control:checked~div.sk-toggleable__content {max-height: 200px;max-width: 100%;overflow: auto;}#sk-container-id-2 input.sk-toggleable__control:checked~label.sk-toggleable__label-arrow:before {content: \"▾\";}#sk-container-id-2 div.sk-estimator input.sk-toggleable__control:checked~label.sk-toggleable__label {background-color: #d4ebff;}#sk-container-id-2 div.sk-label input.sk-toggleable__control:checked~label.sk-toggleable__label {background-color: #d4ebff;}#sk-container-id-2 input.sk-hidden--visually {border: 0;clip: rect(1px 1px 1px 1px);clip: rect(1px, 1px, 1px, 1px);height: 1px;margin: -1px;overflow: hidden;padding: 0;position: absolute;width: 1px;}#sk-container-id-2 div.sk-estimator {font-family: monospace;background-color: #f0f8ff;border: 1px dotted black;border-radius: 0.25em;box-sizing: border-box;margin-bottom: 0.5em;}#sk-container-id-2 div.sk-estimator:hover {background-color: #d4ebff;}#sk-container-id-2 div.sk-parallel-item::after {content: \"\";width: 100%;border-bottom: 1px solid gray;flex-grow: 1;}#sk-container-id-2 div.sk-label:hover label.sk-toggleable__label {background-color: #d4ebff;}#sk-container-id-2 div.sk-serial::before {content: \"\";position: absolute;border-left: 1px solid gray;box-sizing: border-box;top: 0;bottom: 0;left: 50%;z-index: 0;}#sk-container-id-2 div.sk-serial {display: flex;flex-direction: column;align-items: center;background-color: white;padding-right: 0.2em;padding-left: 0.2em;position: relative;}#sk-container-id-2 div.sk-item {position: relative;z-index: 1;}#sk-container-id-2 div.sk-parallel {display: flex;align-items: stretch;justify-content: center;background-color: white;position: relative;}#sk-container-id-2 div.sk-item::before, #sk-container-id-2 div.sk-parallel-item::before {content: \"\";position: absolute;border-left: 1px solid gray;box-sizing: border-box;top: 0;bottom: 0;left: 50%;z-index: -1;}#sk-container-id-2 div.sk-parallel-item {display: flex;flex-direction: column;z-index: 1;position: relative;background-color: white;}#sk-container-id-2 div.sk-parallel-item:first-child::after {align-self: flex-end;width: 50%;}#sk-container-id-2 div.sk-parallel-item:last-child::after {align-self: flex-start;width: 50%;}#sk-container-id-2 div.sk-parallel-item:only-child::after {width: 0;}#sk-container-id-2 div.sk-dashed-wrapped {border: 1px dashed gray;margin: 0 0.4em 0.5em 0.4em;box-sizing: border-box;padding-bottom: 0.4em;background-color: white;}#sk-container-id-2 div.sk-label label {font-family: monospace;font-weight: bold;display: inline-block;line-height: 1.2em;}#sk-container-id-2 div.sk-label-container {text-align: center;}#sk-container-id-2 div.sk-container {/* jupyter's `normalize.less` sets `[hidden] { display: none; }` but bootstrap.min.css set `[hidden] { display: none !important; }` so we also need the `!important` here to be able to override the default hidden behavior on the sphinx rendered scikit-learn.org. See: https://github.com/scikit-learn/scikit-learn/issues/21755 */display: inline-block !important;position: relative;}#sk-container-id-2 div.sk-text-repr-fallback {display: none;}</style><div id=\"sk-container-id-2\" class=\"sk-top-container\"><div class=\"sk-text-repr-fallback\"><pre>SVC(kernel=&#x27;linear&#x27;)</pre><b>In a Jupyter environment, please rerun this cell to show the HTML representation or trust the notebook. <br />On GitHub, the HTML representation is unable to render, please try loading this page with nbviewer.org.</b></div><div class=\"sk-container\" hidden><div class=\"sk-item\"><div class=\"sk-estimator sk-toggleable\"><input class=\"sk-toggleable__control sk-hidden--visually\" id=\"sk-estimator-id-2\" type=\"checkbox\" checked><label for=\"sk-estimator-id-2\" class=\"sk-toggleable__label sk-toggleable__label-arrow\">SVC</label><div class=\"sk-toggleable__content\"><pre>SVC(kernel=&#x27;linear&#x27;)</pre></div></div></div></div></div>"
      ],
      "text/plain": [
       "SVC(kernel='linear')"
      ]
     },
     "execution_count": 16,
     "metadata": {},
     "output_type": "execute_result"
    }
   ],
   "source": [
    "classifier.fit(X_train, Y_train)"
   ]
  },
  {
   "cell_type": "markdown",
   "metadata": {},
   "source": [
    "Membuat model evaluasi untuk mengukur tingkat akurasi"
   ]
  },
  {
   "cell_type": "code",
   "execution_count": 17,
   "metadata": {},
   "outputs": [],
   "source": [
    "X_train_prediction = classifier.predict(X_train)\n",
    "training_data_accuracy = accuracy_score(X_train_prediction, Y_train)"
   ]
  },
  {
   "cell_type": "code",
   "execution_count": 19,
   "metadata": {},
   "outputs": [
    {
     "name": "stdout",
     "output_type": "stream",
     "text": [
      "Akurasi data training adalah =  1.0\n"
     ]
    }
   ],
   "source": [
    "print('Akurasi data training adalah = ', training_data_accuracy)"
   ]
  },
  {
   "cell_type": "code",
   "execution_count": 25,
   "metadata": {},
   "outputs": [],
   "source": [
    "X_test_prediction = classifier.predict(X_test)\n",
    "test_data_accuracy = accuracy_score(X_test_prediction, Y_test)"
   ]
  },
  {
   "cell_type": "code",
   "execution_count": 26,
   "metadata": {},
   "outputs": [
    {
     "name": "stdout",
     "output_type": "stream",
     "text": [
      "Akurasi data testing adalah =  1.0\n"
     ]
    }
   ],
   "source": [
    "print('Akurasi data testing adalah = ', test_data_accuracy)"
   ]
  },
  {
   "cell_type": "markdown",
   "metadata": {},
   "source": [
    "Membuat Model Prediksi"
   ]
  },
  {
   "cell_type": "code",
   "execution_count": 31,
   "metadata": {},
   "outputs": [
    {
     "name": "stdout",
     "output_type": "stream",
     "text": [
      "[[-0.35629395  0.97467943 -0.3293068  -0.51162268 -0.0874788  -1.2645212\n",
      "  -1.29058784 -0.38163018 -0.18627267]]\n",
      "[0]\n",
      "Pasien terkena hipertensi\n"
     ]
    },
    {
     "name": "stderr",
     "output_type": "stream",
     "text": [
      "c:\\Users\\Ammar\\anaconda3\\Lib\\site-packages\\sklearn\\base.py:439: UserWarning: X does not have valid feature names, but StandardScaler was fitted with feature names\n",
      "  warnings.warn(\n"
     ]
    }
   ],
   "source": [
    "input_data = (42, 1, 24.32,\t8, 56, 3.2, 182, 126, 84\n",
    ")\n",
    "\n",
    "input_data_as_numpy_array = np.array(input_data)\n",
    "\n",
    "input_data_reshape = input_data_as_numpy_array.reshape(1,-1)\n",
    "\n",
    "std_data = scaler.transform(input_data_reshape)\n",
    "print(std_data)\n",
    "\n",
    "prediction = classifier.predict(std_data)\n",
    "print(prediction)\n",
    "\n",
    "if (prediction[0] == 1):\n",
    "    print('Pasien tidak terkena hipertensi')\n",
    "else :\n",
    "    print('Pasien terkena hipertensi')"
   ]
  },
  {
   "cell_type": "markdown",
   "metadata": {},
   "source": [
    "Simpan model"
   ]
  },
  {
   "cell_type": "code",
   "execution_count": 32,
   "metadata": {},
   "outputs": [],
   "source": [
    "import pickle"
   ]
  },
  {
   "cell_type": "code",
   "execution_count": 33,
   "metadata": {},
   "outputs": [],
   "source": [
    "filename = 'hipertensi_model.sav'\n",
    "pickle.dump(classifier, open(filename,'wb'))"
   ]
  }
 ],
 "metadata": {
  "kernelspec": {
   "display_name": "base",
   "language": "python",
   "name": "python3"
  },
  "language_info": {
   "codemirror_mode": {
    "name": "ipython",
    "version": 3
   },
   "file_extension": ".py",
   "mimetype": "text/x-python",
   "name": "python",
   "nbconvert_exporter": "python",
   "pygments_lexer": "ipython3",
   "version": "3.11.7"
  },
  "orig_nbformat": 4,
  "vscode": {
   "interpreter": {
    "hash": "ad2bdc8ecc057115af97d19610ffacc2b4e99fae6737bb82f5d7fb13d2f2c186"
   }
  }
 },
 "nbformat": 4,
 "nbformat_minor": 2
}
